{
 "metadata": {
  "language_info": {
   "codemirror_mode": {
    "name": "ipython",
    "version": 3
   },
   "file_extension": ".py",
   "mimetype": "text/x-python",
   "name": "python",
   "nbconvert_exporter": "python",
   "pygments_lexer": "ipython3",
   "version": "3.8.6"
  },
  "orig_nbformat": 2,
  "kernelspec": {
   "name": "python386jvsc74a57bd0fbe238fbd6722883a25f0e99a6b32a532e1e5c4d6bc62cce666becd368f75eaf",
   "display_name": "Python 3.8.6 64-bit"
  },
  "metadata": {
   "interpreter": {
    "hash": "fbe238fbd6722883a25f0e99a6b32a532e1e5c4d6bc62cce666becd368f75eaf"
   }
  }
 },
 "nbformat": 4,
 "nbformat_minor": 2,
 "cells": [
  {
   "cell_type": "code",
   "execution_count": null,
   "metadata": {},
   "outputs": [],
   "source": [
    "''' Plan fot this notebook.\n",
    "\n",
    "Printing your machine's name and IPv4 address\n",
    "Retrieving a remote machine's IP address\n",
    "Converting an IPv4 address to different formats\n",
    "Finding a service name, given the port and protocol\n",
    "Converting integers to and from host to network byte order\n",
    "Setting and getting the default socket timeout\n",
    "Handling socket errors gracefully\n",
    "Modifying a socket's send/receive buffer size\n",
    "Changing a socket to the blocking/non-blocking mode\n",
    "Reusing socket addresses\n",
    "Printing the current time from the internet time server\n",
    "Writing an SNTP client\n",
    "Writing a simple TCP echo client/server application\n",
    "Writing a simple UDP echo client/server application\n",
    "\n",
    "'''"
   ]
  },
  {
   "cell_type": "code",
   "execution_count": 2,
   "metadata": {},
   "outputs": [
    {
     "output_type": "execute_result",
     "data": {
      "text/plain": [
       "'YogaLaptop'"
      ]
     },
     "metadata": {},
     "execution_count": 2
    }
   ],
   "source": [
    "# Printing your machine's name and IPv4 address\n",
    "# ---------------------------------------------\n",
    "#\n",
    "# Oficial docks about socket module\n",
    "# https://docs.python.org/3/library/socket.html\n",
    "#\n",
    "# Socket Programming in Python (Guide)\n",
    "# https://realpython.com/python-sockets/\n",
    "#\n",
    "# Socket Programming with Python\n",
    "# https://www.youtube.com/playlist?list=PLWx0eBJwLh214twx51btBNC5ZP4MgIKYC\n",
    "\n",
    "\n",
    "\n",
    "\n",
    "import socket\n",
    "\n",
    "socket.gethostname()\n"
   ]
  },
  {
   "cell_type": "code",
   "execution_count": 3,
   "metadata": {},
   "outputs": [
    {
     "output_type": "execute_result",
     "data": {
      "text/plain": [
       "'10.77.0.6'"
      ]
     },
     "metadata": {},
     "execution_count": 3
    }
   ],
   "source": [
    "socket.gethostbyname(socket.gethostname())"
   ]
  },
  {
   "cell_type": "code",
   "execution_count": null,
   "metadata": {},
   "outputs": [],
   "source": []
  }
 ]
}